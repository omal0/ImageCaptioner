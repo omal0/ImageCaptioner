{
 "cells": [
  {
   "cell_type": "code",
   "execution_count": null,
   "id": "ac4a928d",
   "metadata": {},
   "outputs": [],
   "source": [
    "# install once in your environment:\n",
    "# pip install ultralytics opencv-python\n",
    "from ultralytics import YOLO\n",
    "import cv2\n",
    "import numpy as np\n",
    "import mss\n",
    "import torch\n",
    "import seaborn\n",
    "from PIL import Image\n",
    "from transformers import BlipProcessor, BlipForConditionalGeneration\n",
    "device = \"cuda\" if torch.cuda.is_available() else \"cpu\"\n",
    "print(f\"Using device: {device}\")\n",
    "# Load YOLOv8 model on GPU\n",
    "model = YOLO(\"model/yolo11x.pt\").to(device)\n",
    "# Load this if you dont have cuda\n",
    "#model = YOLO(\"model/yolo11x.pt\")"
   ]
  },
  {
   "cell_type": "code",
   "execution_count": null,
   "id": "6721d1e5",
   "metadata": {},
   "outputs": [],
   "source": [
    "# Run prediction on an image\n",
    "results = model(\"TestFootage\\carspassingby.mp4\", show=True)  # show=True opens a window with boxes\n",
    "\n",
    "# Print detailed results\n",
    "for result in results:\n",
    "    boxes = result.boxes\n",
    "    for box in boxes:\n",
    "        print(f\"Class: {model.keypoints[int(box.cls)]}, \"\n",
    "              f\"Conf: {float(box.conf):.2f}, \"\n",
    "              f\"Box: {box.xyxy.tolist()}\")"
   ]
  },
  {
   "cell_type": "code",
   "execution_count": null,
   "id": "a944efa2",
   "metadata": {},
   "outputs": [],
   "source": [
    "\n",
    "#Run inference on an image\n",
    "results = model(\"TestFootage\\Frames\\cartestframe10.jpg\")   # path to your image\n",
    "\n",
    "#Print detected classes and confidence\n",
    "for result in results:\n",
    "    boxes = result.boxes\n",
    "    for box in boxes:\n",
    "        print(f\"Class: {model.names[int(box.cls)]}, \"\n",
    "              f\"Conf: {float(box.conf):.2f}, \"\n",
    "              f\"Box: {box.xyxy.tolist()}\")\n",
    "\n"
   ]
  },
  {
   "cell_type": "code",
   "execution_count": null,
   "id": "8b409269",
   "metadata": {},
   "outputs": [],
   "source": [
    "# Set up screen capture\n",
    "sct = mss.mss()\n",
    "monitor = sct.monitors[1]  # 1 = primary screen, [0] = virtual all\n",
    "\n",
    "while True:\n",
    "    # Grab screen\n",
    "    screenshot = sct.grab(monitor)\n",
    "    frame = np.array(screenshot)\n",
    "\n",
    "    # Convert BGRA -> BGR\n",
    "    frame = cv2.cvtColor(frame, cv2.COLOR_BGRA2BGR)\n",
    "\n",
    "    # Run YOLO inference\n",
    "    results = model(frame)\n",
    "\n",
    "    # Draw only people (class 0 in COCO)\n",
    "    for r in results:\n",
    "        for box in r.boxes:\n",
    "            cls = int(box.cls[0])\n",
    "            conf = float(box.conf[0])\n",
    "            if cls == 0 and conf > 0.5:  # class 0 = person\n",
    "                x1, y1, x2, y2 = map(int, box.xyxy[0])\n",
    "                cv2.rectangle(frame, (x1, y1), (x2, y2), (0, 255, 0), 2)\n",
    "                cv2.putText(frame, f\"Person {conf:.2f}\", (x1, y1 - 10),\n",
    "                            cv2.FONT_HERSHEY_SIMPLEX, 0.6, (0, 255, 0), 2)\n",
    "\n",
    "    # Show window\n",
    "    cv2.imshow(\"Screen Capture - People Detection\", frame)\n",
    "\n",
    "    # Exit with 'q'\n",
    "    if cv2.waitKey(1) & 0xFF == ord(\"q\"):\n",
    "        break\n",
    "\n",
    "cv2.destroyAllWindows()\n"
   ]
  },
  {
   "cell_type": "code",
   "execution_count": 19,
   "id": "be9f1b75",
   "metadata": {},
   "outputs": [],
   "source": [
    "processor = BlipProcessor.from_pretrained(\"Salesforce/blip-image-captioning-base\")\n",
    "blip_model = BlipForConditionalGeneration.from_pretrained(\"Salesforce/blip-image-captioning-base\").to(\"cuda\")\n",
    "\n",
    "def describe_image(frame):\n",
    "    # Convert numpy frame -> PIL image\n",
    "    image = Image.fromarray(cv2.cvtColor(frame, cv2.COLOR_BGR2RGB))\n",
    "    inputs = processor(images=image, return_tensors=\"pt\").to(\"cuda\")\n",
    "    out = blip_model.generate(**inputs)\n",
    "    caption = processor.decode(out[0], skip_special_tokens=True)\n",
    "    return caption"
   ]
  },
  {
   "cell_type": "code",
   "execution_count": null,
   "id": "f36690cc",
   "metadata": {},
   "outputs": [],
   "source": [
    "\n",
    "with mss.mss() as sct:\n",
    "    monitor = sct.monitors[1]  # full screen\n",
    "    while True:\n",
    "        # Grab screen\n",
    "        sct_img = sct.grab(monitor)\n",
    "        frame = np.array(sct_img)[:, :, :3]  # drop alpha channel\n",
    "        frame = cv2.cvtColor(frame, cv2.COLOR_RGB2BGR)\n",
    "\n",
    "        # Run YOLO detection\n",
    "        results = model(frame)[0]\n",
    "        annotated_frame = results.plot()\n",
    "\n",
    "        # Run BLIP caption\n",
    "        caption = describe_image(frame)\n",
    "        cv2.putText(annotated_frame, caption, (20, 40),\n",
    "                    cv2.FONT_HERSHEY_SIMPLEX, 1, (0, 255, 0), 2)\n",
    "\n",
    "        # Show results\n",
    "        cv2.imshow(\"YOLOv10 + BLIP Captioning\", annotated_frame)\n",
    "\n",
    "        if cv2.waitKey(1) & 0xFF == ord(\"q\"):\n",
    "            break\n",
    "\n",
    "cv2.destroyAllWindows()\n"
   ]
  }
 ],
 "metadata": {
  "kernelspec": {
   "display_name": "base",
   "language": "python",
   "name": "python3"
  },
  "language_info": {
   "codemirror_mode": {
    "name": "ipython",
    "version": 3
   },
   "file_extension": ".py",
   "mimetype": "text/x-python",
   "name": "python",
   "nbconvert_exporter": "python",
   "pygments_lexer": "ipython3",
   "version": "3.12.2"
  }
 },
 "nbformat": 4,
 "nbformat_minor": 5
}
